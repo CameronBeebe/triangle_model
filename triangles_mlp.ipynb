{
 "cells": [
  {
   "cell_type": "code",
   "execution_count": 1,
   "metadata": {},
   "outputs": [],
   "source": [
    "# We are going to create a MLP that classifies triangles.\n",
    "# 1. Create data (triples) of side lengths, and also angles.  (Consider how to structure data.)\n",
    "# 2. Label these data with a labeling function.\n",
    "# 3. Create a MLP model.\n",
    "# 4. Pass data and labels into MLP model, and run fit loop.  (Which data?)\n",
    "# 5. "
   ]
  },
  {
   "cell_type": "code",
   "execution_count": 2,
   "metadata": {},
   "outputs": [],
   "source": [
    "# We could create a model which learns to \"finish\" triangles from two thirds of a triple.\n",
    "# However, we already know the pythagorean theorem, which we will use for labeling.\n",
    "# This is a toy model for illustration purposes."
   ]
  },
  {
   "cell_type": "code",
   "execution_count": 3,
   "metadata": {},
   "outputs": [],
   "source": [
    "from sklearn.neural_network import MLPClassifier\n",
    "import numpy as np"
   ]
  },
  {
   "cell_type": "code",
   "execution_count": 4,
   "metadata": {},
   "outputs": [],
   "source": [
    "# Create data (two different paths).  Stick with integers for simplicity."
   ]
  },
  {
   "cell_type": "code",
   "execution_count": 5,
   "metadata": {},
   "outputs": [],
   "source": [
    "def create_data_sides(num_side_triples):\n",
    "    # Does it matter the range we choose for side lengths?\n",
    "    side_triples = np.random.randint(low=1, high=1000, size=(num_side_triples, 3))\n",
    "    return side_triples"
   ]
  },
  {
   "cell_type": "code",
   "execution_count": 6,
   "metadata": {},
   "outputs": [],
   "source": [
    "def create_data_angles(num_angle_triples):\n",
    "    # Some reasonable bounds on (integer) angles are [1,179).  Why?  \n",
    "    # Could we choose other bounds for creating the distribution of integers?\n",
    "    angle_triples = np.random.randint(low=1, high=179, size=(num_angle_triples, 3))\n",
    "    return angle_triples"
   ]
  },
  {
   "cell_type": "code",
   "execution_count": 7,
   "metadata": {},
   "outputs": [],
   "source": [
    "# How much data do we want to generate.\n",
    "num_data = 4"
   ]
  },
  {
   "cell_type": "code",
   "execution_count": 8,
   "metadata": {},
   "outputs": [
    {
     "data": {
      "text/plain": [
       "array([[574, 629, 952],\n",
       "       [258, 449, 410],\n",
       "       [998,  33, 937],\n",
       "       [338, 786, 562]])"
      ]
     },
     "execution_count": 8,
     "metadata": {},
     "output_type": "execute_result"
    }
   ],
   "source": [
    "create_data_sides(num_data)"
   ]
  },
  {
   "cell_type": "code",
   "execution_count": 9,
   "metadata": {},
   "outputs": [
    {
     "data": {
      "text/plain": [
       "array([[  5, 142, 119],\n",
       "       [ 32,  54,  94],\n",
       "       [171, 131, 109],\n",
       "       [129,  82, 116]])"
      ]
     },
     "execution_count": 9,
     "metadata": {},
     "output_type": "execute_result"
    }
   ],
   "source": [
    "create_data_angles(num_data)"
   ]
  },
  {
   "cell_type": "code",
   "execution_count": 13,
   "metadata": {},
   "outputs": [],
   "source": [
    "def side_labeler(side_data):\n",
    "    # Labels are a vector of length of side_data, equal to 1 where Triangle Inequality Theorem holds.\n",
    "    # https://en.wikipedia.org/wiki/Triangle_inequality\n",
    "    \n",
    "    # Grab longest side for each potential triangle, and compare with sum of other lengths.\n",
    "    # One way to achieve this is to first sort the sides so that the longest side is last.\n",
    "    side_data = np.array([sorted(i) for i in side_data])\n",
    "\n",
    "    # Then compare and create labels (using list comprehension) according to the Theorem.\n",
    "    labels = np.array([1 if (i[-1] <= i[0] + i[1]) else 0 for i in side_data])\n",
    "    \n",
    "    return labels"
   ]
  },
  {
   "cell_type": "code",
   "execution_count": null,
   "metadata": {},
   "outputs": [],
   "source": [
    "def angle_labeler(angle_data):\n",
    "    pass"
   ]
  },
  {
   "cell_type": "code",
   "execution_count": null,
   "metadata": {},
   "outputs": [],
   "source": []
  },
  {
   "cell_type": "code",
   "execution_count": null,
   "metadata": {},
   "outputs": [],
   "source": []
  },
  {
   "cell_type": "code",
   "execution_count": 12,
   "metadata": {},
   "outputs": [
    {
     "data": {
      "text/plain": [
       "array([[ 95, 791, 232],\n",
       "       [590, 361, 717],\n",
       "       [ 74,  91, 533],\n",
       "       [278, 911, 875],\n",
       "       [292, 728, 898],\n",
       "       [191,  65, 599],\n",
       "       [325, 436, 115],\n",
       "       [ 18, 366, 990],\n",
       "       [613, 260, 136],\n",
       "       [317, 549, 666],\n",
       "       [272, 401, 355],\n",
       "       [ 74, 723, 759],\n",
       "       [660, 588,  87],\n",
       "       [175,  28, 518],\n",
       "       [ 25, 880, 836],\n",
       "       [894, 653,  10],\n",
       "       [866, 787, 351],\n",
       "       [505, 190, 702],\n",
       "       [910, 857, 323],\n",
       "       [301, 809, 437]])"
      ]
     },
     "execution_count": 12,
     "metadata": {},
     "output_type": "execute_result"
    }
   ],
   "source": [
    "# Test side data creation\n",
    "sides = create_data_sides(20)\n",
    "sides"
   ]
  },
  {
   "cell_type": "code",
   "execution_count": 15,
   "metadata": {},
   "outputs": [
    {
     "data": {
      "text/plain": [
       "array([0, 1, 0, 1, 1, 0, 1, 0, 0, 1, 1, 1, 1, 0, 0, 0, 1, 0, 1, 0])"
      ]
     },
     "execution_count": 15,
     "metadata": {},
     "output_type": "execute_result"
    }
   ],
   "source": [
    "# Test side labeling.  Sanity check by hand.\n",
    "side_labels = side_labeler(sides)\n",
    "side_labels"
   ]
  },
  {
   "cell_type": "code",
   "execution_count": null,
   "metadata": {},
   "outputs": [],
   "source": []
  },
  {
   "cell_type": "code",
   "execution_count": null,
   "metadata": {},
   "outputs": [],
   "source": []
  }
 ],
 "metadata": {
  "kernelspec": {
   "display_name": "Python 3",
   "language": "python",
   "name": "python3"
  },
  "language_info": {
   "codemirror_mode": {
    "name": "ipython",
    "version": 3
   },
   "file_extension": ".py",
   "mimetype": "text/x-python",
   "name": "python",
   "nbconvert_exporter": "python",
   "pygments_lexer": "ipython3",
   "version": "3.7.7"
  }
 },
 "nbformat": 4,
 "nbformat_minor": 4
}
