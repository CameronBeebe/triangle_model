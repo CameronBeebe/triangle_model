{
 "cells": [
  {
   "cell_type": "code",
   "execution_count": 1,
   "metadata": {},
   "outputs": [],
   "source": [
    "# We are going to create a MLP that classifies triangles.\n",
    "# 1. Create data (triples) of side lengths, and also angles.  (Consider differences in data.)\n",
    "# 2. Label these data with a labeling function.  (Notice differences in labels.)\n",
    "# 3. Create a MLP model for each.  (What do you expect from learning/performance?)\n",
    "# 4. Pass respective data and labels into MLP model, and run fit loop.  \n",
    "# 5. Plot and visualize results.  (Discuss)"
   ]
  },
  {
   "cell_type": "code",
   "execution_count": 2,
   "metadata": {},
   "outputs": [],
   "source": [
    "# This is a toy model for illustration purposes."
   ]
  },
  {
   "cell_type": "code",
   "execution_count": 3,
   "metadata": {},
   "outputs": [],
   "source": [
    "from sklearn.neural_network import MLPClassifier\n",
    "import numpy as np"
   ]
  },
  {
   "cell_type": "code",
   "execution_count": 4,
   "metadata": {},
   "outputs": [],
   "source": [
    "# Create data (two different paths).  Stick with integers for simplicity."
   ]
  },
  {
   "cell_type": "code",
   "execution_count": 5,
   "metadata": {},
   "outputs": [],
   "source": [
    "def create_data_sides(num_side_triples):\n",
    "    '''\n",
    "    Function creates triangle side data.\n",
    "    '''\n",
    "    # Does it matter the range we choose for side lengths?\n",
    "    side_triples = np.random.randint(low=1, high=1000, size=(num_side_triples, 3))\n",
    "    return side_triples"
   ]
  },
  {
   "cell_type": "code",
   "execution_count": 6,
   "metadata": {},
   "outputs": [],
   "source": [
    "def create_data_angles(num_angle_triples):\n",
    "    '''\n",
    "    Function creates triangle angle data.\n",
    "    '''\n",
    "    # Some reasonable bounds on (integer) angles are [1,179).  Why?  \n",
    "    # Could we choose other bounds for creating the distribution of integer degrees?\n",
    "    angle_triples = np.random.randint(low=1, high=179, size=(num_angle_triples, 3))\n",
    "    return angle_triples"
   ]
  },
  {
   "cell_type": "code",
   "execution_count": 7,
   "metadata": {},
   "outputs": [],
   "source": [
    "# How much data do we want to generate.\n",
    "num_data = 4"
   ]
  },
  {
   "cell_type": "code",
   "execution_count": 8,
   "metadata": {},
   "outputs": [
    {
     "data": {
      "text/plain": [
       "array([[636,  28, 858],\n",
       "       [811, 507, 550],\n",
       "       [595, 208, 212],\n",
       "       [598, 862, 686]])"
      ]
     },
     "execution_count": 8,
     "metadata": {},
     "output_type": "execute_result"
    }
   ],
   "source": [
    "create_data_sides(num_data)"
   ]
  },
  {
   "cell_type": "code",
   "execution_count": 9,
   "metadata": {},
   "outputs": [
    {
     "data": {
      "text/plain": [
       "array([[ 42, 117, 163],\n",
       "       [  6, 163, 100],\n",
       "       [ 50, 152,  43],\n",
       "       [ 42, 143,  50]])"
      ]
     },
     "execution_count": 9,
     "metadata": {},
     "output_type": "execute_result"
    }
   ],
   "source": [
    "create_data_angles(num_data)"
   ]
  },
  {
   "cell_type": "code",
   "execution_count": 10,
   "metadata": {},
   "outputs": [],
   "source": [
    "def side_labeler(side_data):\n",
    "    '''\n",
    "    Function takes ONLY side data and returns labels of successful triangles.\n",
    "    '''\n",
    "    # Labels are a vector of length of side_data, equal to 1 where Triangle Inequality Theorem holds.\n",
    "    # https://en.wikipedia.org/wiki/Triangle_inequality\n",
    "    \n",
    "    # Grab longest side for each potential triangle, and compare with sum of other lengths.\n",
    "    # One way to achieve this is to first sort the sides so that the longest side is last.\n",
    "    side_data = np.array([sorted(i) for i in side_data])\n",
    "\n",
    "    # Then compare and create labels (using list comprehension) according to the Theorem.\n",
    "    labels = np.array([1 if (i[-1] <= i[0] + i[1]) else 0 for i in side_data])\n",
    "    \n",
    "    return labels"
   ]
  },
  {
   "cell_type": "code",
   "execution_count": 11,
   "metadata": {},
   "outputs": [],
   "source": [
    "def angle_labeler(angle_data):\n",
    "    '''\n",
    "    Function takes ONLY angle data and returns labels of successful triangles.\n",
    "    '''\n",
    "    # Labeling angles is a bit more simple.  Simply check they sum to 180 degrees.\n",
    "    labels = np.array([1 if (i[0] + i[1] + i[2] == 180) else 0 for i in angle_data])\n",
    "    return labels"
   ]
  },
  {
   "cell_type": "code",
   "execution_count": 12,
   "metadata": {},
   "outputs": [
    {
     "data": {
      "text/plain": [
       "array([[408, 252,  73],\n",
       "       [406, 352, 447],\n",
       "       [982,  40, 510],\n",
       "       [260, 943, 268],\n",
       "       [709, 816, 334],\n",
       "       [162, 201, 878],\n",
       "       [350, 489, 457],\n",
       "       [807, 534, 969],\n",
       "       [363, 275, 220],\n",
       "       [581, 140, 493],\n",
       "       [756, 200, 938],\n",
       "       [ 26, 352, 915],\n",
       "       [921,  74, 417],\n",
       "       [937, 734, 961],\n",
       "       [466, 598, 962],\n",
       "       [239, 461, 968],\n",
       "       [527,  59, 434],\n",
       "       [760, 598, 186],\n",
       "       [420, 470, 902],\n",
       "       [978, 394, 788],\n",
       "       [802,   5, 329],\n",
       "       [167, 761, 559],\n",
       "       [461, 967, 463],\n",
       "       [631,   1, 882],\n",
       "       [186, 605, 465],\n",
       "       [886, 966, 333],\n",
       "       [567,  23, 538],\n",
       "       [651,  53, 501],\n",
       "       [840, 983, 499],\n",
       "       [378, 627, 837],\n",
       "       [987,  20, 773],\n",
       "       [492,  19, 835],\n",
       "       [117, 844, 765],\n",
       "       [472, 753, 978],\n",
       "       [146, 853,  14],\n",
       "       [786, 429, 129],\n",
       "       [232, 667, 837],\n",
       "       [691, 275, 795],\n",
       "       [369, 346, 612],\n",
       "       [393, 730, 355],\n",
       "       [  9, 486, 670],\n",
       "       [ 94, 990, 686],\n",
       "       [798, 109,  31],\n",
       "       [100, 892,  49],\n",
       "       [438,  35, 183],\n",
       "       [506, 847, 479],\n",
       "       [187, 746, 826],\n",
       "       [928, 574, 286],\n",
       "       [879, 245, 986],\n",
       "       [132, 614,  83],\n",
       "       [461, 461, 634],\n",
       "       [717, 447, 889],\n",
       "       [681, 817, 497],\n",
       "       [ 21, 349, 898],\n",
       "       [345, 939, 814],\n",
       "       [761, 957, 124],\n",
       "       [131, 880,  56],\n",
       "       [849,   5, 329],\n",
       "       [110, 903, 701],\n",
       "       [592, 450, 130],\n",
       "       [725,  98, 470],\n",
       "       [655, 313,  43],\n",
       "       [444, 556, 387],\n",
       "       [719, 642,  51],\n",
       "       [ 83, 967, 938],\n",
       "       [131, 941, 580],\n",
       "       [ 54, 266, 172],\n",
       "       [963, 853, 686],\n",
       "       [917, 952, 262],\n",
       "       [232, 585, 912],\n",
       "       [623, 451, 489],\n",
       "       [779,  21, 530],\n",
       "       [111, 959, 847],\n",
       "       [188, 564, 222],\n",
       "       [396, 891,  31],\n",
       "       [443,  10, 245],\n",
       "       [416, 251, 981],\n",
       "       [978, 963, 903],\n",
       "       [818, 755, 485],\n",
       "       [ 64, 934, 462],\n",
       "       [125, 424, 539],\n",
       "       [338, 706, 961],\n",
       "       [429, 593,  46],\n",
       "       [848, 659, 102],\n",
       "       [492, 384, 406],\n",
       "       [199, 602, 345],\n",
       "       [484, 688,  25],\n",
       "       [495, 119, 419],\n",
       "       [969, 208, 494],\n",
       "       [ 68, 297, 451],\n",
       "       [607, 483, 754],\n",
       "       [170, 742, 283],\n",
       "       [907, 908,   8],\n",
       "       [ 96, 376, 975],\n",
       "       [470, 351, 718],\n",
       "       [624, 198, 239],\n",
       "       [306, 927, 901],\n",
       "       [224, 876,  19],\n",
       "       [682, 400, 855],\n",
       "       [607, 200,  43]])"
      ]
     },
     "execution_count": 12,
     "metadata": {},
     "output_type": "execute_result"
    }
   ],
   "source": [
    "# Test side data creation\n",
    "sides = create_data_sides(100)\n",
    "sides"
   ]
  },
  {
   "cell_type": "code",
   "execution_count": 13,
   "metadata": {},
   "outputs": [
    {
     "data": {
      "text/plain": [
       "array([0, 1, 0, 0, 1, 0, 1, 1, 1, 1, 1, 0, 0, 1, 1, 0, 0, 1, 0, 1, 0, 0,\n",
       "       0, 0, 1, 1, 0, 0, 1, 1, 0, 0, 1, 1, 0, 0, 1, 1, 1, 1, 0, 0, 0, 0,\n",
       "       0, 1, 1, 0, 1, 0, 1, 1, 1, 0, 1, 0, 0, 0, 0, 0, 0, 0, 1, 0, 1, 0,\n",
       "       0, 1, 1, 0, 1, 0, 0, 0, 0, 0, 0, 1, 1, 0, 1, 1, 0, 0, 1, 0, 0, 1,\n",
       "       0, 0, 1, 0, 1, 0, 1, 0, 1, 0, 1, 0])"
      ]
     },
     "execution_count": 13,
     "metadata": {},
     "output_type": "execute_result"
    }
   ],
   "source": [
    "# Test side labeling.  Sanity check by hand.\n",
    "side_labels = side_labeler(sides)\n",
    "side_labels"
   ]
  },
  {
   "cell_type": "code",
   "execution_count": 14,
   "metadata": {},
   "outputs": [
    {
     "data": {
      "text/plain": [
       "array([[ 71, 176, 136],\n",
       "       [ 48, 128, 169],\n",
       "       [  7,  35,  71],\n",
       "       [ 31,  82, 123],\n",
       "       [ 87, 123, 178],\n",
       "       [ 83,  53, 143],\n",
       "       [108,  82,  84],\n",
       "       [ 59, 158, 114],\n",
       "       [162,  69,   9],\n",
       "       [137,  21, 114],\n",
       "       [ 69, 168,  85],\n",
       "       [ 21,  83, 168],\n",
       "       [113, 101,  50],\n",
       "       [ 55,  33, 144],\n",
       "       [ 89,  24,  31],\n",
       "       [145,  49,  90],\n",
       "       [ 99,  43, 152],\n",
       "       [159,  13,  39],\n",
       "       [106,  30,  40],\n",
       "       [173,  38, 129],\n",
       "       [147,  33, 104],\n",
       "       [ 57,  20, 151],\n",
       "       [ 92, 119,  30],\n",
       "       [ 24, 116,   1],\n",
       "       [ 69,  19, 115],\n",
       "       [ 67,  43,  76],\n",
       "       [147,   5, 117],\n",
       "       [ 64,  62, 113],\n",
       "       [166,  39, 165],\n",
       "       [ 78, 105, 120],\n",
       "       [138,   2,  39],\n",
       "       [ 57,  54,  34],\n",
       "       [163, 162, 136],\n",
       "       [143, 158,  15],\n",
       "       [150,  98, 101],\n",
       "       [ 70,  64, 106],\n",
       "       [ 97,  17, 172],\n",
       "       [ 92,   9,  25],\n",
       "       [ 53,  32,  23],\n",
       "       [ 57,  98, 140],\n",
       "       [163, 153,  87],\n",
       "       [ 13,  23, 148],\n",
       "       [127, 111,   1],\n",
       "       [  4,  70,  48],\n",
       "       [ 97,  16,  61],\n",
       "       [155,   4,  84],\n",
       "       [ 95,  87,  90],\n",
       "       [ 33,  36, 173],\n",
       "       [ 88, 178,  57],\n",
       "       [147, 126,  84],\n",
       "       [ 11,   5, 154],\n",
       "       [ 54, 127,  63],\n",
       "       [106,  76, 128],\n",
       "       [ 98,  69,  53],\n",
       "       [163,  41, 126],\n",
       "       [ 97,  75,  38],\n",
       "       [146,  95, 138],\n",
       "       [128,  42,  96],\n",
       "       [109,  33, 105],\n",
       "       [151, 127,  21],\n",
       "       [ 80, 108, 111],\n",
       "       [ 64, 113,  79],\n",
       "       [139,  73,  83],\n",
       "       [ 59, 171,  61],\n",
       "       [ 44,  11,  81],\n",
       "       [107,  48,  41],\n",
       "       [133,   7,   5],\n",
       "       [  9, 106, 131],\n",
       "       [ 76, 161,  73],\n",
       "       [ 74, 131,  59],\n",
       "       [170,  64, 132],\n",
       "       [106,  18, 153],\n",
       "       [ 44, 157,  84],\n",
       "       [  1,  57, 101],\n",
       "       [131,  38, 119],\n",
       "       [160, 172, 173],\n",
       "       [ 37,  75, 131],\n",
       "       [ 25,  17,  99],\n",
       "       [  1, 162, 106],\n",
       "       [113, 107,  28],\n",
       "       [ 24, 164, 115],\n",
       "       [109, 122,  20],\n",
       "       [105,  88, 173],\n",
       "       [173,  70, 103],\n",
       "       [ 46, 144, 138],\n",
       "       [ 15, 127, 157],\n",
       "       [ 59, 137, 175],\n",
       "       [ 44, 136, 121],\n",
       "       [ 52, 128,   4],\n",
       "       [ 33,  41, 170],\n",
       "       [ 48,  75, 120],\n",
       "       [143, 156, 159],\n",
       "       [141, 122, 131],\n",
       "       [ 53,  20,  17],\n",
       "       [151, 102, 143],\n",
       "       [106,  93,  14],\n",
       "       [ 62, 107,  98],\n",
       "       [141, 144,  56],\n",
       "       [ 95,  94,  74],\n",
       "       [143,  63, 173]])"
      ]
     },
     "execution_count": 14,
     "metadata": {},
     "output_type": "execute_result"
    }
   ],
   "source": [
    "# Test angle data creation\n",
    "angles = create_data_angles(100)\n",
    "angles"
   ]
  },
  {
   "cell_type": "code",
   "execution_count": 15,
   "metadata": {},
   "outputs": [
    {
     "data": {
      "text/plain": [
       "array([0, 0, 0, 0, 0, 0, 0, 0, 0, 0, 0, 0, 0, 0, 0, 0, 0, 0, 0, 0, 0, 0,\n",
       "       0, 0, 0, 0, 0, 0, 0, 0, 0, 0, 0, 0, 0, 0, 0, 0, 0, 0, 0, 0, 0, 0,\n",
       "       0, 0, 0, 0, 0, 0, 0, 0, 0, 0, 0, 0, 0, 0, 0, 0, 0, 0, 0, 0, 0, 0,\n",
       "       0, 0, 0, 0, 0, 0, 0, 0, 0, 0, 0, 0, 0, 0, 0, 0, 0, 0, 0, 0, 0, 0,\n",
       "       0, 0, 0, 0, 0, 0, 0, 0, 0, 0, 0, 0])"
      ]
     },
     "execution_count": 15,
     "metadata": {},
     "output_type": "execute_result"
    }
   ],
   "source": [
    "# Test angle labeling. Sanity check.\n",
    "angle_labels = angle_labeler(angles)\n",
    "angle_labels"
   ]
  },
  {
   "cell_type": "code",
   "execution_count": 16,
   "metadata": {},
   "outputs": [],
   "source": [
    "# What is one main difference between angle labels and side labels?"
   ]
  },
  {
   "cell_type": "code",
   "execution_count": 17,
   "metadata": {},
   "outputs": [
    {
     "name": "stderr",
     "output_type": "stream",
     "text": [
      "/anaconda3/lib/python3.7/site-packages/sklearn/neural_network/_multilayer_perceptron.py:585: ConvergenceWarning: Stochastic Optimizer: Maximum iterations (100) reached and the optimization hasn't converged yet.\n",
      "  % self.max_iter, ConvergenceWarning)\n"
     ]
    }
   ],
   "source": [
    "side_classifier = MLPClassifier(max_iter=100).fit(sides,side_labels)"
   ]
  },
  {
   "cell_type": "code",
   "execution_count": 18,
   "metadata": {},
   "outputs": [
    {
     "data": {
      "text/plain": [
       "array([0, 1, 0, 0, 1, 0, 1, 1, 1, 1, 1, 0, 0, 1, 1, 0, 0, 0, 1, 1, 0, 0,\n",
       "       0, 0, 1, 1, 0, 0, 1, 1, 0, 0, 1, 1, 0, 0, 1, 1, 1, 1, 0, 0, 0, 0,\n",
       "       0, 1, 1, 0, 1, 0, 1, 1, 1, 0, 1, 0, 0, 0, 0, 0, 0, 0, 1, 1, 1, 0,\n",
       "       0, 1, 1, 0, 1, 0, 0, 0, 0, 0, 0, 1, 1, 0, 1, 1, 0, 0, 1, 0, 0, 1,\n",
       "       0, 0, 1, 0, 1, 0, 1, 0, 1, 0, 1, 0])"
      ]
     },
     "execution_count": 18,
     "metadata": {},
     "output_type": "execute_result"
    }
   ],
   "source": [
    "predicted_sides = side_classifier.predict(sides)\n",
    "predicted_sides"
   ]
  },
  {
   "cell_type": "code",
   "execution_count": 19,
   "metadata": {},
   "outputs": [
    {
     "data": {
      "text/plain": [
       "array([ True,  True,  True,  True,  True,  True,  True,  True,  True,\n",
       "        True,  True,  True,  True,  True,  True,  True,  True, False,\n",
       "       False,  True,  True,  True,  True,  True,  True,  True,  True,\n",
       "        True,  True,  True,  True,  True,  True,  True,  True,  True,\n",
       "        True,  True,  True,  True,  True,  True,  True,  True,  True,\n",
       "        True,  True,  True,  True,  True,  True,  True,  True,  True,\n",
       "        True,  True,  True,  True,  True,  True,  True,  True,  True,\n",
       "       False,  True,  True,  True,  True,  True,  True,  True,  True,\n",
       "        True,  True,  True,  True,  True,  True,  True,  True,  True,\n",
       "        True,  True,  True,  True,  True,  True,  True,  True,  True,\n",
       "        True,  True,  True,  True,  True,  True,  True,  True,  True,\n",
       "        True])"
      ]
     },
     "execution_count": 19,
     "metadata": {},
     "output_type": "execute_result"
    }
   ],
   "source": [
    "predicted_sides == side_labels"
   ]
  },
  {
   "cell_type": "code",
   "execution_count": 20,
   "metadata": {},
   "outputs": [],
   "source": [
    "# Note: We should test on a separate data set, normal practice is to split the training data."
   ]
  },
  {
   "cell_type": "code",
   "execution_count": 21,
   "metadata": {},
   "outputs": [],
   "source": [
    "# For angle classification, consider the information we are feeding into the MLP.\n",
    "angle_classifier = MLPClassifier(max_iter=100).fit(angles,angle_labels)"
   ]
  },
  {
   "cell_type": "code",
   "execution_count": 22,
   "metadata": {},
   "outputs": [
    {
     "data": {
      "text/plain": [
       "array([0, 0, 0, 0, 0, 0, 0, 0, 0, 0, 0, 0, 0, 0, 0, 0, 0, 0, 0, 0, 0, 0,\n",
       "       0, 0, 0, 0, 0, 0, 0, 0, 0, 0, 0, 0, 0, 0, 0, 0, 0, 0, 0, 0, 0, 0,\n",
       "       0, 0, 0, 0, 0, 0, 0, 0, 0, 0, 0, 0, 0, 0, 0, 0, 0, 0, 0, 0, 0, 0,\n",
       "       0, 0, 0, 0, 0, 0, 0, 0, 0, 0, 0, 0, 0, 0, 0, 0, 0, 0, 0, 0, 0, 0,\n",
       "       0, 0, 0, 0, 0, 0, 0, 0, 0, 0, 0, 0])"
      ]
     },
     "execution_count": 22,
     "metadata": {},
     "output_type": "execute_result"
    }
   ],
   "source": [
    "predicted_angles = angle_classifier.predict(angles)\n",
    "predicted_angles"
   ]
  },
  {
   "cell_type": "code",
   "execution_count": 23,
   "metadata": {},
   "outputs": [
    {
     "data": {
      "text/plain": [
       "array([ True,  True,  True,  True,  True,  True,  True,  True,  True,\n",
       "        True,  True,  True,  True,  True,  True,  True,  True,  True,\n",
       "        True,  True,  True,  True,  True,  True,  True,  True,  True,\n",
       "        True,  True,  True,  True,  True,  True,  True,  True,  True,\n",
       "        True,  True,  True,  True,  True,  True,  True,  True,  True,\n",
       "        True,  True,  True,  True,  True,  True,  True,  True,  True,\n",
       "        True,  True,  True,  True,  True,  True,  True,  True,  True,\n",
       "        True,  True,  True,  True,  True,  True,  True,  True,  True,\n",
       "        True,  True,  True,  True,  True,  True,  True,  True,  True,\n",
       "        True,  True,  True,  True,  True,  True,  True,  True,  True,\n",
       "        True,  True,  True,  True,  True,  True,  True,  True,  True,\n",
       "        True])"
      ]
     },
     "execution_count": 23,
     "metadata": {},
     "output_type": "execute_result"
    }
   ],
   "source": [
    "# Wow, incredible performance!  ...Or is something wrong?\n",
    "predicted_angles == angle_labels"
   ]
  },
  {
   "cell_type": "code",
   "execution_count": null,
   "metadata": {},
   "outputs": [],
   "source": []
  }
 ],
 "metadata": {
  "kernelspec": {
   "display_name": "Python 3",
   "language": "python",
   "name": "python3"
  },
  "language_info": {
   "codemirror_mode": {
    "name": "ipython",
    "version": 3
   },
   "file_extension": ".py",
   "mimetype": "text/x-python",
   "name": "python",
   "nbconvert_exporter": "python",
   "pygments_lexer": "ipython3",
   "version": "3.7.7"
  }
 },
 "nbformat": 4,
 "nbformat_minor": 4
}
