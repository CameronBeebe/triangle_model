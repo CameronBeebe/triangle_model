{
 "cells": [
  {
   "cell_type": "code",
   "execution_count": 1,
   "metadata": {},
   "outputs": [],
   "source": [
    "# We are going to create a MLP that classifies triangles.\n",
    "# 1. Create data (triples) of side lengths, and also angles.  (Consider differences in data.)\n",
    "# 2. Label these data with a labeling function.  (Notice differences in labels.)\n",
    "# 3. Create a MLP model for each.  (What do you expect from learning/performance?)\n",
    "# 4. Pass respective data and labels into MLP model, and run fit loop.  \n",
    "# 5. Plot and visualize results.  (Discuss)"
   ]
  },
  {
   "cell_type": "code",
   "execution_count": 2,
   "metadata": {},
   "outputs": [],
   "source": [
    "# We could create a model which learns to \"finish\" triangles from two thirds of a triple.\n",
    "# However, we already know the pythagorean theorem, which we will use for labeling.\n",
    "# This is a toy model for illustration purposes."
   ]
  },
  {
   "cell_type": "code",
   "execution_count": 3,
   "metadata": {},
   "outputs": [],
   "source": [
    "from sklearn.neural_network import MLPClassifier\n",
    "import numpy as np"
   ]
  },
  {
   "cell_type": "code",
   "execution_count": 4,
   "metadata": {},
   "outputs": [],
   "source": [
    "# Create data (two different paths).  Stick with integers for simplicity."
   ]
  },
  {
   "cell_type": "code",
   "execution_count": 5,
   "metadata": {},
   "outputs": [],
   "source": [
    "def create_data_sides(num_side_triples):\n",
    "    # Does it matter the range we choose for side lengths?\n",
    "    side_triples = np.random.randint(low=1, high=1000, size=(num_side_triples, 3))\n",
    "    return side_triples"
   ]
  },
  {
   "cell_type": "code",
   "execution_count": 6,
   "metadata": {},
   "outputs": [],
   "source": [
    "def create_data_angles(num_angle_triples):\n",
    "    # Some reasonable bounds on (integer) angles are [1,179).  Why?  \n",
    "    # Could we choose other bounds for creating the distribution of integer degrees?\n",
    "    angle_triples = np.random.randint(low=1, high=179, size=(num_angle_triples, 3))\n",
    "    return angle_triples"
   ]
  },
  {
   "cell_type": "code",
   "execution_count": 7,
   "metadata": {},
   "outputs": [],
   "source": [
    "# How much data do we want to generate.\n",
    "num_data = 4"
   ]
  },
  {
   "cell_type": "code",
   "execution_count": 8,
   "metadata": {},
   "outputs": [
    {
     "data": {
      "text/plain": [
       "array([[903, 504, 279],\n",
       "       [563, 261, 524],\n",
       "       [768, 588, 487],\n",
       "       [453,   6, 878]])"
      ]
     },
     "execution_count": 8,
     "metadata": {},
     "output_type": "execute_result"
    }
   ],
   "source": [
    "create_data_sides(num_data)"
   ]
  },
  {
   "cell_type": "code",
   "execution_count": 9,
   "metadata": {},
   "outputs": [
    {
     "data": {
      "text/plain": [
       "array([[145, 102,  32],\n",
       "       [ 79,  76,   4],\n",
       "       [  7, 163, 112],\n",
       "       [167, 172,  13]])"
      ]
     },
     "execution_count": 9,
     "metadata": {},
     "output_type": "execute_result"
    }
   ],
   "source": [
    "create_data_angles(num_data)"
   ]
  },
  {
   "cell_type": "code",
   "execution_count": 10,
   "metadata": {},
   "outputs": [],
   "source": [
    "def side_labeler(side_data):\n",
    "    '''\n",
    "    Function takes ONLY side data and returns labels of successful triangles.\n",
    "    '''\n",
    "    # Labels are a vector of length of side_data, equal to 1 where Triangle Inequality Theorem holds.\n",
    "    # https://en.wikipedia.org/wiki/Triangle_inequality\n",
    "    \n",
    "    # Grab longest side for each potential triangle, and compare with sum of other lengths.\n",
    "    # One way to achieve this is to first sort the sides so that the longest side is last.\n",
    "    side_data = np.array([sorted(i) for i in side_data])\n",
    "\n",
    "    # Then compare and create labels (using list comprehension) according to the Theorem.\n",
    "    labels = np.array([1 if (i[-1] <= i[0] + i[1]) else 0 for i in side_data])\n",
    "    \n",
    "    return labels"
   ]
  },
  {
   "cell_type": "code",
   "execution_count": 11,
   "metadata": {},
   "outputs": [],
   "source": [
    "def angle_labeler(angle_data):\n",
    "    '''\n",
    "    Function takes ONLY angle data and returns labels of successful triangles.\n",
    "    '''\n",
    "    # Labeling angles is a bit more simple.  Simply check they sum to 180 degrees.\n",
    "    labels = np.array([1 if (i[0] + i[1] + i[2] == 180) else 0 for i in angle_data])\n",
    "    return labels"
   ]
  },
  {
   "cell_type": "code",
   "execution_count": 12,
   "metadata": {},
   "outputs": [
    {
     "data": {
      "text/plain": [
       "array([[705,  76, 731],\n",
       "       [997,  39, 686],\n",
       "       [167, 650, 525],\n",
       "       [560, 403, 669],\n",
       "       [395, 683, 771],\n",
       "       [435, 386, 313],\n",
       "       [939, 451, 235],\n",
       "       [904, 913, 753],\n",
       "       [ 90, 459, 125],\n",
       "       [602, 328, 349],\n",
       "       [ 48, 535, 186],\n",
       "       [949, 405, 484],\n",
       "       [ 81, 670, 949],\n",
       "       [616, 513, 773],\n",
       "       [504, 658,  98],\n",
       "       [777, 659, 858],\n",
       "       [152, 923, 855],\n",
       "       [456, 815, 602],\n",
       "       [879, 839, 898],\n",
       "       [937, 433, 203],\n",
       "       [122, 779, 107],\n",
       "       [234, 995, 331],\n",
       "       [967, 933, 378],\n",
       "       [650, 695, 212],\n",
       "       [ 17, 515, 387],\n",
       "       [501, 488, 239],\n",
       "       [228, 755, 117],\n",
       "       [522, 546, 565],\n",
       "       [687, 193, 561],\n",
       "       [926, 279, 645],\n",
       "       [176, 947, 186],\n",
       "       [560, 551, 806],\n",
       "       [511, 526, 913],\n",
       "       [ 72, 927, 534],\n",
       "       [779, 553, 674],\n",
       "       [592, 671, 246],\n",
       "       [487, 592, 130],\n",
       "       [938,  76, 171],\n",
       "       [ 44, 928, 408],\n",
       "       [455, 783, 625],\n",
       "       [ 67, 608, 731],\n",
       "       [905, 468, 336],\n",
       "       [246, 173, 793],\n",
       "       [671, 837, 725],\n",
       "       [144, 141, 886],\n",
       "       [208, 335, 314],\n",
       "       [264, 357, 453],\n",
       "       [228, 738, 454],\n",
       "       [633, 674, 810],\n",
       "       [704, 892, 845],\n",
       "       [641, 653,  88],\n",
       "       [497, 232,  86],\n",
       "       [818, 502, 723],\n",
       "       [566, 308,  29],\n",
       "       [578, 340, 987],\n",
       "       [143, 522, 564],\n",
       "       [ 86, 798, 610],\n",
       "       [761, 527, 460],\n",
       "       [492,  59, 517],\n",
       "       [735, 614, 764],\n",
       "       [167, 875, 999],\n",
       "       [348, 215, 751],\n",
       "       [186, 904, 757],\n",
       "       [490, 515, 704],\n",
       "       [534, 757, 110],\n",
       "       [673, 487, 546],\n",
       "       [266, 752, 634],\n",
       "       [340, 691, 405],\n",
       "       [235,  40, 639],\n",
       "       [713, 443, 245],\n",
       "       [544, 153, 723],\n",
       "       [706, 405, 306],\n",
       "       [853, 207, 160],\n",
       "       [940, 486, 102],\n",
       "       [931, 837, 354],\n",
       "       [104, 291,  60],\n",
       "       [336, 499, 263],\n",
       "       [957, 242,  84],\n",
       "       [344, 481, 819],\n",
       "       [214, 120, 629],\n",
       "       [469, 962, 986],\n",
       "       [639, 422, 289],\n",
       "       [855, 548, 740],\n",
       "       [846, 606, 339],\n",
       "       [222, 174, 987],\n",
       "       [511,  14, 789],\n",
       "       [820, 137, 762],\n",
       "       [900,  84, 238],\n",
       "       [237, 785, 126],\n",
       "       [473, 734, 618],\n",
       "       [ 15, 945, 650],\n",
       "       [626, 483, 968],\n",
       "       [209, 394, 143],\n",
       "       [ 13, 314, 934],\n",
       "       [596, 970, 618],\n",
       "       [315, 350, 212],\n",
       "       [ 79, 307,  63],\n",
       "       [522, 580, 388],\n",
       "       [109, 637, 504],\n",
       "       [483, 279, 822]])"
      ]
     },
     "execution_count": 12,
     "metadata": {},
     "output_type": "execute_result"
    }
   ],
   "source": [
    "# Test side data creation\n",
    "sides = create_data_sides(100)\n",
    "sides"
   ]
  },
  {
   "cell_type": "code",
   "execution_count": 13,
   "metadata": {},
   "outputs": [
    {
     "data": {
      "text/plain": [
       "array([1, 0, 1, 1, 1, 1, 0, 1, 0, 1, 0, 0, 0, 1, 0, 1, 1, 1, 1, 0, 0, 0,\n",
       "       1, 1, 0, 1, 0, 1, 1, 0, 0, 1, 1, 0, 1, 1, 1, 0, 0, 1, 0, 0, 0, 1,\n",
       "       0, 1, 1, 0, 1, 1, 1, 0, 1, 0, 0, 1, 0, 1, 1, 1, 1, 0, 1, 1, 0, 1,\n",
       "       1, 1, 0, 0, 0, 1, 0, 0, 1, 0, 1, 0, 1, 0, 1, 1, 1, 1, 0, 0, 1, 0,\n",
       "       0, 1, 0, 1, 0, 0, 1, 1, 0, 1, 0, 0])"
      ]
     },
     "execution_count": 13,
     "metadata": {},
     "output_type": "execute_result"
    }
   ],
   "source": [
    "# Test side labeling.  Sanity check by hand.\n",
    "side_labels = side_labeler(sides)\n",
    "side_labels"
   ]
  },
  {
   "cell_type": "code",
   "execution_count": 20,
   "metadata": {},
   "outputs": [
    {
     "data": {
      "text/plain": [
       "array([[ 29,   9, 175],\n",
       "       [ 67, 118, 141],\n",
       "       [178, 157,  70],\n",
       "       [ 75, 110,  63],\n",
       "       [ 63,  99,  64],\n",
       "       [148, 177,  22],\n",
       "       [174,  37,  20],\n",
       "       [  8,  43, 167],\n",
       "       [101,  44, 137],\n",
       "       [172, 110,  58],\n",
       "       [ 44, 176,  80],\n",
       "       [134,  68,  90],\n",
       "       [ 76, 136, 118],\n",
       "       [ 27,  39, 149],\n",
       "       [153,  27,  95],\n",
       "       [ 31, 111,  21],\n",
       "       [115, 149, 148],\n",
       "       [156,  89,   9],\n",
       "       [178,  22,  29],\n",
       "       [ 85, 128,  21],\n",
       "       [ 29,  44, 121],\n",
       "       [ 88, 122, 122],\n",
       "       [ 68, 158, 117],\n",
       "       [103,  40,  69],\n",
       "       [ 12,  77,  69],\n",
       "       [ 71,   9,  21],\n",
       "       [124,  97, 117],\n",
       "       [160,  30,  77],\n",
       "       [ 65,   9,  51],\n",
       "       [170,  32,  88],\n",
       "       [130,  97, 165],\n",
       "       [ 47,  33,  44],\n",
       "       [147, 134, 145],\n",
       "       [119, 136,  48],\n",
       "       [ 37, 124,  14],\n",
       "       [ 78, 164,  70],\n",
       "       [ 97,  40,  18],\n",
       "       [  3,  78,   5],\n",
       "       [ 27, 121,  19],\n",
       "       [150,  88, 163],\n",
       "       [ 10, 137, 134],\n",
       "       [ 76, 165,  27],\n",
       "       [ 23,   7,   6],\n",
       "       [149,  64, 101],\n",
       "       [151, 127, 138],\n",
       "       [121,  25,  70],\n",
       "       [171,  34, 147],\n",
       "       [106, 165, 169],\n",
       "       [169, 175, 126],\n",
       "       [152, 153, 166],\n",
       "       [ 71,  74,  94],\n",
       "       [ 53, 161, 114],\n",
       "       [ 41,   4, 161],\n",
       "       [131,  77, 177],\n",
       "       [103,  37,  26],\n",
       "       [ 27, 151,  86],\n",
       "       [ 33, 150, 124],\n",
       "       [117,  16,  99],\n",
       "       [104,  92,  31],\n",
       "       [104,  34,  45],\n",
       "       [149,  80,  93],\n",
       "       [162,  45, 146],\n",
       "       [107, 125, 109],\n",
       "       [ 78,   9, 107],\n",
       "       [160, 155,  95],\n",
       "       [ 95,  27, 105],\n",
       "       [ 19, 123,  88],\n",
       "       [ 75, 119,  89],\n",
       "       [ 36, 144, 131],\n",
       "       [ 37, 174,  76],\n",
       "       [ 56, 118,  19],\n",
       "       [118,  63, 174],\n",
       "       [ 69, 111,  35],\n",
       "       [132,  14,  45],\n",
       "       [175,  42,  50],\n",
       "       [111, 139, 172],\n",
       "       [ 74,   5,  52],\n",
       "       [106, 116, 112],\n",
       "       [143, 161,  59],\n",
       "       [122, 103,  94],\n",
       "       [ 46, 102,  14],\n",
       "       [ 34, 159, 101],\n",
       "       [162,  40,  23],\n",
       "       [  3, 118,  50],\n",
       "       [104,  76,  68],\n",
       "       [ 78,  17,  15],\n",
       "       [140,  33,   4],\n",
       "       [ 20, 131,  81],\n",
       "       [150,  77, 124],\n",
       "       [127, 157,  19],\n",
       "       [149, 157,  56],\n",
       "       [174, 148,   9],\n",
       "       [154,  45, 147],\n",
       "       [  7,  39,   2],\n",
       "       [ 85, 123,  40],\n",
       "       [146, 161, 129],\n",
       "       [113,  75,  75],\n",
       "       [133, 124,  49],\n",
       "       [ 83,  76,  67],\n",
       "       [ 23, 165, 152]])"
      ]
     },
     "execution_count": 20,
     "metadata": {},
     "output_type": "execute_result"
    }
   ],
   "source": [
    "# Test angle data creation\n",
    "angles = create_data_angles(100)\n",
    "angles"
   ]
  },
  {
   "cell_type": "code",
   "execution_count": 21,
   "metadata": {},
   "outputs": [
    {
     "data": {
      "text/plain": [
       "array([0, 0, 0, 0, 0, 0, 0, 0, 0, 0, 0, 0, 0, 0, 0, 0, 0, 0, 0, 0, 0, 0,\n",
       "       0, 0, 0, 0, 0, 0, 0, 0, 0, 0, 0, 0, 0, 0, 0, 0, 0, 0, 0, 0, 0, 0,\n",
       "       0, 0, 0, 0, 0, 0, 0, 0, 0, 0, 0, 0, 0, 0, 0, 0, 0, 0, 0, 0, 0, 0,\n",
       "       0, 0, 0, 0, 0, 0, 0, 0, 0, 0, 0, 0, 0, 0, 0, 0, 0, 0, 0, 0, 0, 0,\n",
       "       0, 0, 0, 0, 0, 0, 0, 0, 0, 0, 0, 0])"
      ]
     },
     "execution_count": 21,
     "metadata": {},
     "output_type": "execute_result"
    }
   ],
   "source": [
    "# Test angle labeling. Sanity check.\n",
    "angle_labels = angle_labeler(angles)\n",
    "angle_labels"
   ]
  },
  {
   "cell_type": "code",
   "execution_count": 16,
   "metadata": {},
   "outputs": [],
   "source": [
    "# What is one main difference between angle labels and side labels?"
   ]
  },
  {
   "cell_type": "code",
   "execution_count": 17,
   "metadata": {},
   "outputs": [],
   "source": [
    "side_classifier = MLPClassifier(max_iter=100).fit(sides,side_labels)"
   ]
  },
  {
   "cell_type": "code",
   "execution_count": 18,
   "metadata": {},
   "outputs": [
    {
     "data": {
      "text/plain": [
       "array([0, 0, 1, 1, 1, 1, 0, 1, 0, 1, 0, 1, 0, 1, 0, 1, 1, 1, 1, 0, 0, 0,\n",
       "       1, 1, 0, 1, 0, 1, 0, 0, 0, 1, 1, 0, 1, 1, 0, 0, 0, 1, 0, 1, 0, 1,\n",
       "       0, 1, 1, 1, 1, 1, 0, 0, 1, 0, 0, 1, 0, 1, 0, 1, 1, 0, 1, 1, 0, 1,\n",
       "       1, 1, 0, 1, 0, 1, 0, 0, 1, 0, 1, 0, 0, 0, 1, 1, 1, 1, 0, 0, 0, 0,\n",
       "       0, 1, 0, 1, 0, 0, 1, 1, 0, 1, 1, 0])"
      ]
     },
     "execution_count": 18,
     "metadata": {},
     "output_type": "execute_result"
    }
   ],
   "source": [
    "predicted_sides = side_classifier.predict(sides)\n",
    "predicted_sides"
   ]
  },
  {
   "cell_type": "code",
   "execution_count": 19,
   "metadata": {},
   "outputs": [
    {
     "data": {
      "text/plain": [
       "array([False,  True,  True,  True,  True,  True,  True,  True,  True,\n",
       "        True,  True, False,  True,  True,  True,  True,  True,  True,\n",
       "        True,  True,  True,  True,  True,  True,  True,  True,  True,\n",
       "        True, False,  True,  True,  True,  True,  True,  True,  True,\n",
       "       False,  True,  True,  True,  True, False,  True,  True,  True,\n",
       "        True,  True, False,  True,  True, False,  True,  True,  True,\n",
       "        True,  True,  True,  True, False,  True,  True,  True,  True,\n",
       "        True,  True,  True,  True,  True,  True, False,  True,  True,\n",
       "        True,  True,  True,  True,  True,  True, False,  True,  True,\n",
       "        True,  True,  True,  True,  True, False,  True,  True,  True,\n",
       "        True,  True,  True,  True,  True,  True,  True,  True, False,\n",
       "        True])"
      ]
     },
     "execution_count": 19,
     "metadata": {},
     "output_type": "execute_result"
    }
   ],
   "source": [
    "predicted_sides == side_labels"
   ]
  },
  {
   "cell_type": "code",
   "execution_count": 22,
   "metadata": {},
   "outputs": [],
   "source": [
    "# Note: We should test on a separate data set, normal practice is to split the training data."
   ]
  },
  {
   "cell_type": "code",
   "execution_count": 23,
   "metadata": {},
   "outputs": [],
   "source": [
    "# For angle classification, consider the information we are feeding into the MLP.\n",
    "angle_classifier = MLPClassifier(max_iter=100).fit(angles,angle_labels)"
   ]
  },
  {
   "cell_type": "code",
   "execution_count": 24,
   "metadata": {},
   "outputs": [
    {
     "data": {
      "text/plain": [
       "array([0, 0, 0, 0, 0, 0, 0, 0, 0, 0, 0, 0, 0, 0, 0, 0, 0, 0, 0, 0, 0, 0,\n",
       "       0, 0, 0, 0, 0, 0, 0, 0, 0, 0, 0, 0, 0, 0, 0, 0, 0, 0, 0, 0, 0, 0,\n",
       "       0, 0, 0, 0, 0, 0, 0, 0, 0, 0, 0, 0, 0, 0, 0, 0, 0, 0, 0, 0, 0, 0,\n",
       "       0, 0, 0, 0, 0, 0, 0, 0, 0, 0, 0, 0, 0, 0, 0, 0, 0, 0, 0, 0, 0, 0,\n",
       "       0, 0, 0, 0, 0, 0, 0, 0, 0, 0, 0, 0])"
      ]
     },
     "execution_count": 24,
     "metadata": {},
     "output_type": "execute_result"
    }
   ],
   "source": [
    "predicted_angles = angle_classifier.predict(angles)\n",
    "predicted_angles"
   ]
  },
  {
   "cell_type": "code",
   "execution_count": 25,
   "metadata": {},
   "outputs": [
    {
     "data": {
      "text/plain": [
       "array([ True,  True,  True,  True,  True,  True,  True,  True,  True,\n",
       "        True,  True,  True,  True,  True,  True,  True,  True,  True,\n",
       "        True,  True,  True,  True,  True,  True,  True,  True,  True,\n",
       "        True,  True,  True,  True,  True,  True,  True,  True,  True,\n",
       "        True,  True,  True,  True,  True,  True,  True,  True,  True,\n",
       "        True,  True,  True,  True,  True,  True,  True,  True,  True,\n",
       "        True,  True,  True,  True,  True,  True,  True,  True,  True,\n",
       "        True,  True,  True,  True,  True,  True,  True,  True,  True,\n",
       "        True,  True,  True,  True,  True,  True,  True,  True,  True,\n",
       "        True,  True,  True,  True,  True,  True,  True,  True,  True,\n",
       "        True,  True,  True,  True,  True,  True,  True,  True,  True,\n",
       "        True])"
      ]
     },
     "execution_count": 25,
     "metadata": {},
     "output_type": "execute_result"
    }
   ],
   "source": [
    "# Wow, incredible performance!  ...Or is something wrong?\n",
    "predicted_angles == angle_labels"
   ]
  },
  {
   "cell_type": "code",
   "execution_count": null,
   "metadata": {},
   "outputs": [],
   "source": []
  }
 ],
 "metadata": {
  "kernelspec": {
   "display_name": "Python 3",
   "language": "python",
   "name": "python3"
  },
  "language_info": {
   "codemirror_mode": {
    "name": "ipython",
    "version": 3
   },
   "file_extension": ".py",
   "mimetype": "text/x-python",
   "name": "python",
   "nbconvert_exporter": "python",
   "pygments_lexer": "ipython3",
   "version": "3.7.7"
  }
 },
 "nbformat": 4,
 "nbformat_minor": 4
}
