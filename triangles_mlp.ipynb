{
 "cells": [
  {
   "cell_type": "code",
   "execution_count": 1,
   "metadata": {},
   "outputs": [],
   "source": [
    "# We are going to create a MLP that classifies triangles.\n",
    "# 1. Create data (triples) of side lengths, and also angles.  (Consider how to structure data.)\n",
    "# 2. Label these data with a labeling function.\n",
    "# 3. Create a MLP model.\n",
    "# 4. Pass data and labels into MLP model, and run fit loop.  (Which data?)\n",
    "# 5. "
   ]
  },
  {
   "cell_type": "code",
   "execution_count": 2,
   "metadata": {},
   "outputs": [],
   "source": [
    "# We could create a model which learns to \"finish\" triangles from two thirds of a triple.\n",
    "# However, we already know the pythagorean theorem, which we will use for labeling.\n",
    "# This is a toy model for illustration purposes."
   ]
  },
  {
   "cell_type": "code",
   "execution_count": 3,
   "metadata": {},
   "outputs": [],
   "source": [
    "from sklearn.neural_network import MLPClassifier\n",
    "import numpy as np"
   ]
  },
  {
   "cell_type": "code",
   "execution_count": 4,
   "metadata": {},
   "outputs": [],
   "source": [
    "# Create data (two different paths).  Stick with integers for simplicity."
   ]
  },
  {
   "cell_type": "code",
   "execution_count": 5,
   "metadata": {},
   "outputs": [],
   "source": [
    "def create_data_sides(num_side_triples):\n",
    "    pass"
   ]
  },
  {
   "cell_type": "code",
   "execution_count": 6,
   "metadata": {},
   "outputs": [],
   "source": []
  },
  {
   "cell_type": "code",
   "execution_count": 7,
   "metadata": {},
   "outputs": [
    {
     "data": {
      "text/plain": [
       "array([[ 64, 123,  12],\n",
       "       [ 26,  81, 139],\n",
       "       [ 60,  95, 153],\n",
       "       [165,   6, 144]])"
      ]
     },
     "execution_count": 7,
     "metadata": {},
     "output_type": "execute_result"
    }
   ],
   "source": [
    "# How much data do we want to generate.\n",
    "num_angle_triples = 4"
   ]
  },
  {
   "cell_type": "code",
   "execution_count": null,
   "metadata": {},
   "outputs": [],
   "source": [
    "def create_data_angles(num_angle_triples):\n",
    "    # Some reasonable bounds on (integer) angles are [1,179).  Why?  \n",
    "    # Could we choose other bounds for creating the distribution of integers?\n",
    "    angle_triples = np.random.randint(low=1, high=179, size=(num_angle_triples, 3))\n",
    "    return angle_triples"
   ]
  }
 ],
 "metadata": {
  "kernelspec": {
   "display_name": "Python 3",
   "language": "python",
   "name": "python3"
  },
  "language_info": {
   "codemirror_mode": {
    "name": "ipython",
    "version": 3
   },
   "file_extension": ".py",
   "mimetype": "text/x-python",
   "name": "python",
   "nbconvert_exporter": "python",
   "pygments_lexer": "ipython3",
   "version": "3.7.7"
  }
 },
 "nbformat": 4,
 "nbformat_minor": 4
}
