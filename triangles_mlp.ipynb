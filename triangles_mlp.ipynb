{
 "cells": [
  {
   "cell_type": "code",
   "execution_count": 1,
   "metadata": {},
   "outputs": [],
   "source": [
    "# We are going to create a MLP that classifies triangles.\n",
    "# 1. Create data (triples) of side lengths, and also angles.  (Consider differences in data.)\n",
    "# 2. Label these data with a labeling function.  (Notice differences in labels.)\n",
    "# 3. Create a MLP model for each.  (What do you expect from learning/performance?)\n",
    "# 4. Pass respective data and labels into MLP model, and run fit loop.  \n",
    "# 5. Plot and visualize results.  (Discuss)"
   ]
  },
  {
   "cell_type": "code",
   "execution_count": 2,
   "metadata": {},
   "outputs": [],
   "source": [
    "# We could create a model which learns to \"finish\" triangles from two thirds of a triple.\n",
    "# However, we already know the pythagorean theorem, which we will use for labeling.\n",
    "# This is a toy model for illustration purposes."
   ]
  },
  {
   "cell_type": "code",
   "execution_count": 3,
   "metadata": {},
   "outputs": [],
   "source": [
    "from sklearn.neural_network import MLPClassifier\n",
    "import numpy as np"
   ]
  },
  {
   "cell_type": "code",
   "execution_count": 4,
   "metadata": {},
   "outputs": [],
   "source": [
    "# Create data (two different paths).  Stick with integers for simplicity."
   ]
  },
  {
   "cell_type": "code",
   "execution_count": 5,
   "metadata": {},
   "outputs": [],
   "source": [
    "def create_data_sides(num_side_triples):\n",
    "    # Does it matter the range we choose for side lengths?\n",
    "    side_triples = np.random.randint(low=1, high=1000, size=(num_side_triples, 3))\n",
    "    return side_triples"
   ]
  },
  {
   "cell_type": "code",
   "execution_count": 6,
   "metadata": {},
   "outputs": [],
   "source": [
    "def create_data_angles(num_angle_triples):\n",
    "    # Some reasonable bounds on (integer) angles are [1,179).  Why?  \n",
    "    # Could we choose other bounds for creating the distribution of integer degrees?\n",
    "    angle_triples = np.random.randint(low=1, high=179, size=(num_angle_triples, 3))\n",
    "    return angle_triples"
   ]
  },
  {
   "cell_type": "code",
   "execution_count": 7,
   "metadata": {},
   "outputs": [],
   "source": [
    "# How much data do we want to generate.\n",
    "num_data = 4"
   ]
  },
  {
   "cell_type": "code",
   "execution_count": 8,
   "metadata": {},
   "outputs": [
    {
     "data": {
      "text/plain": [
       "array([[563, 357, 694],\n",
       "       [335,  53, 762],\n",
       "       [672, 882, 911],\n",
       "       [969, 480, 436]])"
      ]
     },
     "execution_count": 8,
     "metadata": {},
     "output_type": "execute_result"
    }
   ],
   "source": [
    "create_data_sides(num_data)"
   ]
  },
  {
   "cell_type": "code",
   "execution_count": 9,
   "metadata": {},
   "outputs": [
    {
     "data": {
      "text/plain": [
       "array([[ 64,  18, 171],\n",
       "       [ 39,  96, 145],\n",
       "       [134,   6,  80],\n",
       "       [168,  35, 110]])"
      ]
     },
     "execution_count": 9,
     "metadata": {},
     "output_type": "execute_result"
    }
   ],
   "source": [
    "create_data_angles(num_data)"
   ]
  },
  {
   "cell_type": "code",
   "execution_count": 10,
   "metadata": {},
   "outputs": [],
   "source": [
    "def side_labeler(side_data):\n",
    "    '''\n",
    "    Function takes ONLY side data and returns labels of successful triangles.\n",
    "    '''\n",
    "    # Labels are a vector of length of side_data, equal to 1 where Triangle Inequality Theorem holds.\n",
    "    # https://en.wikipedia.org/wiki/Triangle_inequality\n",
    "    \n",
    "    # Grab longest side for each potential triangle, and compare with sum of other lengths.\n",
    "    # One way to achieve this is to first sort the sides so that the longest side is last.\n",
    "    side_data = np.array([sorted(i) for i in side_data])\n",
    "\n",
    "    # Then compare and create labels (using list comprehension) according to the Theorem.\n",
    "    labels = np.array([1 if (i[-1] <= i[0] + i[1]) else 0 for i in side_data])\n",
    "    \n",
    "    return labels"
   ]
  },
  {
   "cell_type": "code",
   "execution_count": 11,
   "metadata": {},
   "outputs": [],
   "source": [
    "def angle_labeler(angle_data):\n",
    "    '''\n",
    "    Function takes ONLY angle data and returns labels of successful triangles.\n",
    "    '''\n",
    "    # Labeling angles is a bit more simple.  Simply check they sum to 180 degrees.\n",
    "    labels = np.array([1 if (i[0] + i[1] + i[2] == 180) else 0 for i in angle_data])\n",
    "    return labels"
   ]
  },
  {
   "cell_type": "code",
   "execution_count": 25,
   "metadata": {},
   "outputs": [
    {
     "data": {
      "text/plain": [
       "array([[434, 516,  73],\n",
       "       [502, 176, 922],\n",
       "       [300, 338, 673],\n",
       "       [466, 218, 629],\n",
       "       [333, 657, 636],\n",
       "       [622, 929, 885],\n",
       "       [991,   5, 712],\n",
       "       [319, 840,  82],\n",
       "       [469, 424, 608],\n",
       "       [560, 405, 197],\n",
       "       [295, 974, 843],\n",
       "       [771, 651, 100],\n",
       "       [207,  17,  80],\n",
       "       [ 48, 773, 939],\n",
       "       [422, 935,  22],\n",
       "       [973, 806, 600],\n",
       "       [625, 250, 156],\n",
       "       [943, 610, 774],\n",
       "       [979,  85, 249],\n",
       "       [633, 128, 469],\n",
       "       [222, 910, 945],\n",
       "       [540,  21,  62],\n",
       "       [137, 847, 398],\n",
       "       [600, 418, 252],\n",
       "       [334, 435, 208],\n",
       "       [723, 185, 997],\n",
       "       [120, 729, 660],\n",
       "       [251, 898, 884],\n",
       "       [677, 335, 549],\n",
       "       [742, 801, 606],\n",
       "       [610,  11, 957],\n",
       "       [845, 965, 230],\n",
       "       [ 29, 811, 659],\n",
       "       [362, 202, 606],\n",
       "       [248, 736, 158],\n",
       "       [282, 979, 917],\n",
       "       [218, 760, 916],\n",
       "       [333, 321, 243],\n",
       "       [954, 919, 920],\n",
       "       [876, 113, 158],\n",
       "       [689, 748, 143],\n",
       "       [736, 308, 263],\n",
       "       [933, 291, 788],\n",
       "       [956, 328, 985],\n",
       "       [216, 412, 730],\n",
       "       [628,  48, 558],\n",
       "       [524, 211, 142],\n",
       "       [745, 898, 628],\n",
       "       [ 76, 711, 222],\n",
       "       [517, 935, 508],\n",
       "       [240, 901, 193],\n",
       "       [700, 818, 651],\n",
       "       [461, 829, 530],\n",
       "       [775, 232, 124],\n",
       "       [429, 478, 199],\n",
       "       [654, 183, 948],\n",
       "       [378, 346, 947],\n",
       "       [965, 714, 338],\n",
       "       [ 48, 977, 604],\n",
       "       [213, 758, 222],\n",
       "       [ 61, 911, 859],\n",
       "       [410,  40,  60],\n",
       "       [919, 734, 702],\n",
       "       [393, 870, 734],\n",
       "       [661, 126, 233],\n",
       "       [326, 115, 861],\n",
       "       [939, 855, 384],\n",
       "       [ 91, 966, 361],\n",
       "       [797,  46, 329],\n",
       "       [641, 637, 567],\n",
       "       [614, 121, 944],\n",
       "       [101, 357, 797],\n",
       "       [746, 420, 102],\n",
       "       [513, 552, 951],\n",
       "       [317, 675, 607],\n",
       "       [925, 470, 584],\n",
       "       [ 59, 874, 597],\n",
       "       [981, 392, 502],\n",
       "       [118, 991, 407],\n",
       "       [724, 742, 158],\n",
       "       [707, 824, 711],\n",
       "       [321, 785, 820],\n",
       "       [505, 873, 338],\n",
       "       [918, 870, 172],\n",
       "       [989, 554, 581],\n",
       "       [272, 524,  78],\n",
       "       [ 50, 205, 104],\n",
       "       [287, 519, 240],\n",
       "       [440, 305,  13],\n",
       "       [571, 334, 469],\n",
       "       [749,   5, 547],\n",
       "       [372, 840,  56],\n",
       "       [953, 978, 170],\n",
       "       [620, 782, 912],\n",
       "       [258,  34, 396],\n",
       "       [121, 261, 546],\n",
       "       [531, 788, 233],\n",
       "       [127, 985, 980],\n",
       "       [239,  95, 681],\n",
       "       [898, 678, 484]])"
      ]
     },
     "execution_count": 25,
     "metadata": {},
     "output_type": "execute_result"
    }
   ],
   "source": [
    "# Test side data creation\n",
    "sides = create_data_sides(100)\n",
    "sides"
   ]
  },
  {
   "cell_type": "code",
   "execution_count": 26,
   "metadata": {},
   "outputs": [
    {
     "data": {
      "text/plain": [
       "array([0, 0, 0, 1, 1, 1, 0, 0, 1, 1, 1, 0, 0, 0, 0, 1, 0, 1, 0, 0, 1, 0,\n",
       "       0, 1, 1, 0, 1, 1, 1, 1, 0, 1, 0, 0, 0, 1, 1, 1, 1, 0, 1, 0, 1, 1,\n",
       "       0, 0, 0, 1, 0, 1, 0, 1, 1, 0, 1, 0, 0, 1, 0, 0, 1, 0, 1, 1, 0, 0,\n",
       "       1, 0, 0, 1, 0, 0, 0, 1, 1, 1, 0, 0, 0, 1, 1, 1, 0, 1, 1, 0, 0, 1,\n",
       "       0, 1, 0, 0, 1, 1, 0, 0, 0, 1, 0, 1])"
      ]
     },
     "execution_count": 26,
     "metadata": {},
     "output_type": "execute_result"
    }
   ],
   "source": [
    "# Test side labeling.  Sanity check by hand.\n",
    "side_labels = side_labeler(sides)\n",
    "side_labels"
   ]
  },
  {
   "cell_type": "code",
   "execution_count": 14,
   "metadata": {},
   "outputs": [
    {
     "data": {
      "text/plain": [
       "array([[ 16, 175, 100],\n",
       "       [154, 121,  78],\n",
       "       [170,  77, 154],\n",
       "       [ 31, 142, 130],\n",
       "       [ 13,  11,  96],\n",
       "       [ 15,  76, 177],\n",
       "       [147,  99,  41],\n",
       "       [ 11, 167, 149],\n",
       "       [ 49, 150,  80],\n",
       "       [177,  75,  13],\n",
       "       [128,  87,  46],\n",
       "       [ 60,  91,  90],\n",
       "       [128,  89,   9],\n",
       "       [ 47,  11,   5],\n",
       "       [ 72, 162,  28],\n",
       "       [  2,  61,  87],\n",
       "       [ 85, 177,  81],\n",
       "       [169, 169,  86],\n",
       "       [ 31,  34,  81],\n",
       "       [ 95, 105,  99]])"
      ]
     },
     "execution_count": 14,
     "metadata": {},
     "output_type": "execute_result"
    }
   ],
   "source": [
    "# Test angle data creation\n",
    "angles = create_data_angles(20)\n",
    "angles"
   ]
  },
  {
   "cell_type": "code",
   "execution_count": 15,
   "metadata": {},
   "outputs": [
    {
     "data": {
      "text/plain": [
       "array([0, 0, 0, 0, 0, 0, 0, 0, 0, 0, 0, 0, 0, 0, 0, 0, 0, 0, 0, 0])"
      ]
     },
     "execution_count": 15,
     "metadata": {},
     "output_type": "execute_result"
    }
   ],
   "source": [
    "# Test angle labeling. Sanity check.\n",
    "angle_labels = angle_labeler(angles)\n",
    "angle_labels"
   ]
  },
  {
   "cell_type": "code",
   "execution_count": 16,
   "metadata": {},
   "outputs": [],
   "source": [
    "# What is one main difference between angle labels and side labels?"
   ]
  },
  {
   "cell_type": "code",
   "execution_count": null,
   "metadata": {},
   "outputs": [],
   "source": []
  },
  {
   "cell_type": "code",
   "execution_count": 27,
   "metadata": {},
   "outputs": [],
   "source": [
    "side_classifier = MLPClassifier(max_iter=500).fit(sides,side_labels)"
   ]
  },
  {
   "cell_type": "code",
   "execution_count": 28,
   "metadata": {},
   "outputs": [
    {
     "data": {
      "text/plain": [
       "array([[9.98564741e-01, 1.43525862e-03],\n",
       "       [9.99999346e-01, 6.54210987e-07],\n",
       "       [9.93515976e-01, 6.48402370e-03],\n",
       "       [1.98328470e-02, 9.80167153e-01],\n",
       "       [1.60663882e-09, 9.99999998e-01],\n",
       "       [0.00000000e+00, 1.00000000e+00],\n",
       "       [1.00000000e+00, 5.83725595e-26],\n",
       "       [1.00000000e+00, 4.32789533e-28],\n",
       "       [1.27036913e-08, 9.99999987e-01],\n",
       "       [2.86595877e-04, 9.99713404e-01],\n",
       "       [1.42728274e-10, 1.00000000e+00],\n",
       "       [9.96472786e-01, 3.52721353e-03],\n",
       "       [9.99953514e-01, 4.64858709e-05],\n",
       "       [9.27417900e-01, 7.25821002e-02],\n",
       "       [1.00000000e+00, 1.14073474e-34],\n",
       "       [0.00000000e+00, 1.00000000e+00],\n",
       "       [9.99999523e-01, 4.77259350e-07],\n",
       "       [0.00000000e+00, 1.00000000e+00],\n",
       "       [1.00000000e+00, 9.50017467e-23],\n",
       "       [9.99999852e-01, 1.47898356e-07],\n",
       "       [1.02030559e-05, 9.99989797e-01],\n",
       "       [1.00000000e+00, 4.20890946e-14],\n",
       "       [9.99999999e-01, 9.92613179e-10],\n",
       "       [9.15509164e-06, 9.99990845e-01],\n",
       "       [1.25270723e-05, 9.99987473e-01],\n",
       "       [9.99999719e-01, 2.80651028e-07],\n",
       "       [1.39348460e-04, 9.99860652e-01],\n",
       "       [4.94078771e-08, 9.99999951e-01],\n",
       "       [1.00390518e-09, 9.99999999e-01],\n",
       "       [0.00000000e+00, 1.00000000e+00],\n",
       "       [1.00000000e+00, 4.14651493e-15],\n",
       "       [1.76021089e-04, 9.99823979e-01],\n",
       "       [9.86459667e-01, 1.35403327e-02],\n",
       "       [8.55860311e-01, 1.44139689e-01],\n",
       "       [1.00000000e+00, 8.60236526e-18],\n",
       "       [1.65300973e-09, 9.99999998e-01],\n",
       "       [9.17389816e-02, 9.08261018e-01],\n",
       "       [1.66199481e-08, 9.99999983e-01],\n",
       "       [0.00000000e+00, 1.00000000e+00],\n",
       "       [1.00000000e+00, 1.01844484e-19],\n",
       "       [2.31655453e-02, 9.76834455e-01],\n",
       "       [9.99947461e-01, 5.25393175e-05],\n",
       "       [7.85505004e-02, 9.21449500e-01],\n",
       "       [3.46436299e-04, 9.99653564e-01],\n",
       "       [9.99990709e-01, 9.29061092e-06],\n",
       "       [1.00000000e+00, 7.78897656e-13],\n",
       "       [9.99987310e-01, 1.26899348e-05],\n",
       "       [0.00000000e+00, 1.00000000e+00],\n",
       "       [1.00000000e+00, 5.81091489e-18],\n",
       "       [2.34231146e-09, 9.99999998e-01],\n",
       "       [1.00000000e+00, 5.19542676e-24],\n",
       "       [0.00000000e+00, 1.00000000e+00],\n",
       "       [6.02851102e-13, 1.00000000e+00],\n",
       "       [1.00000000e+00, 4.14542052e-12],\n",
       "       [4.09076791e-07, 9.99999591e-01],\n",
       "       [9.99999450e-01, 5.49631628e-07],\n",
       "       [9.99983344e-01, 1.66555261e-05],\n",
       "       [2.22556963e-07, 9.99999777e-01],\n",
       "       [9.99999978e-01, 2.16946068e-08],\n",
       "       [1.00000000e+00, 5.07834594e-15],\n",
       "       [3.02339591e-02, 9.69766041e-01],\n",
       "       [1.00000000e+00, 2.50915050e-10],\n",
       "       [0.00000000e+00, 1.00000000e+00],\n",
       "       [1.70308212e-13, 1.00000000e+00],\n",
       "       [1.00000000e+00, 1.47094137e-10],\n",
       "       [9.99999902e-01, 9.78303489e-08],\n",
       "       [1.24344979e-14, 1.00000000e+00],\n",
       "       [1.00000000e+00, 1.23894421e-20],\n",
       "       [1.00000000e+00, 2.64855904e-18],\n",
       "       [0.00000000e+00, 1.00000000e+00],\n",
       "       [1.00000000e+00, 4.90305612e-10],\n",
       "       [9.96944175e-01, 3.05582461e-03],\n",
       "       [9.99999336e-01, 6.63988015e-07],\n",
       "       [4.98356428e-02, 9.50164357e-01],\n",
       "       [2.73312706e-10, 1.00000000e+00],\n",
       "       [9.99960337e-10, 9.99999999e-01],\n",
       "       [9.99911317e-01, 8.86829720e-05],\n",
       "       [8.98730978e-01, 1.01269022e-01],\n",
       "       [1.00000000e+00, 3.49627180e-17],\n",
       "       [4.58915594e-04, 9.99541084e-01],\n",
       "       [0.00000000e+00, 1.00000000e+00],\n",
       "       [1.09654239e-06, 9.99998903e-01],\n",
       "       [9.67609907e-01, 3.23900927e-02],\n",
       "       [1.29059364e-02, 9.87094064e-01],\n",
       "       [1.56337165e-11, 1.00000000e+00],\n",
       "       [1.00000000e+00, 3.96490997e-13],\n",
       "       [8.89886557e-01, 1.10113443e-01],\n",
       "       [9.85035083e-03, 9.90149649e-01],\n",
       "       [9.99918017e-01, 8.19827362e-05],\n",
       "       [1.41740397e-10, 1.00000000e+00],\n",
       "       [1.00000000e+00, 9.05364168e-20],\n",
       "       [1.00000000e+00, 9.90403269e-29],\n",
       "       [1.52172419e-02, 9.84782758e-01],\n",
       "       [9.68780611e-13, 1.00000000e+00],\n",
       "       [9.99976058e-01, 2.39423807e-05],\n",
       "       [9.99790484e-01, 2.09515908e-04],\n",
       "       [9.99536824e-01, 4.63176329e-04],\n",
       "       [7.12341347e-04, 9.99287659e-01],\n",
       "       [9.99990697e-01, 9.30285895e-06],\n",
       "       [4.66293670e-15, 1.00000000e+00]])"
      ]
     },
     "execution_count": 28,
     "metadata": {},
     "output_type": "execute_result"
    }
   ],
   "source": [
    "side_classifier.predict_proba(sides)"
   ]
  },
  {
   "cell_type": "code",
   "execution_count": null,
   "metadata": {},
   "outputs": [],
   "source": []
  }
 ],
 "metadata": {
  "kernelspec": {
   "display_name": "Python 3",
   "language": "python",
   "name": "python3"
  },
  "language_info": {
   "codemirror_mode": {
    "name": "ipython",
    "version": 3
   },
   "file_extension": ".py",
   "mimetype": "text/x-python",
   "name": "python",
   "nbconvert_exporter": "python",
   "pygments_lexer": "ipython3",
   "version": "3.7.7"
  }
 },
 "nbformat": 4,
 "nbformat_minor": 4
}
